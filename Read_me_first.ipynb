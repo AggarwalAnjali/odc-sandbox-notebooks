{
 "cells": [
  {
   "cell_type": "markdown",
   "metadata": {},
   "source": [
    "# Welcome to the ODC Sandbox\n",
    "\n",
    "We're just getting started here, but please have a look in the folder called `examples` for a range of example notebooks.\n",
    "\n",
    "## Important note\n",
    "\n",
    "Everything in the `examples` folder will be overwritten when you next log in. If you want to save something permanently, please copy it into a different folder. Also note that this file gets overwritten when you log in too!\n",
    "\n",
    "## Additional note\n",
    "\n",
    "As this is a work in progress, we can't guarantee that we're not going to lose your data. If you have important notebooks that contain some of your best work, please ensure you back it up."
   ]
  },
  {
   "cell_type": "code",
   "execution_count": null,
   "metadata": {},
   "outputs": [],
   "source": []
  }
 ],
 "metadata": {
  "kernelspec": {
   "display_name": "Python 3",
   "language": "python",
   "name": "python3"
  },
  "language_info": {
   "codemirror_mode": {
    "name": "ipython",
    "version": 3
   },
   "file_extension": ".py",
   "mimetype": "text/x-python",
   "name": "python",
   "nbconvert_exporter": "python",
   "pygments_lexer": "ipython3",
   "version": "3.6.5"
  }
 },
 "nbformat": 4,
 "nbformat_minor": 2
}
