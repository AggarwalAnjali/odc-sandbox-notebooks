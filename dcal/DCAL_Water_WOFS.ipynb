{
 "cells": [
  {
   "cell_type": "markdown",
   "metadata": {},
   "source": [
    "# Water Observations from Space (WOFS)\n",
    "\n",
    "### Background\n",
    "\n",
    "Understanding Australia's flood history is an important part of making better predictions about how we will be affected by flooding in the future.\n",
    "\n",
    "To this end, Geoscience Australia developved the Australian Water Observations from Space (WOFS) algorithm. WOFS provides an estimate of how often water was seen at a particular location. This water detection algorithm is significantly better than the Landsat QA water flag or the NDWI index for water identification. \n",
    "\n",
    "For more information, visit this website: http://www.ga.gov.au/scientific-topics/hazards/flood/wofs"
   ]
  },
  {
   "cell_type": "markdown",
   "metadata": {},
   "source": [
    "## Preliminary steps"
   ]
  },
  {
   "cell_type": "code",
   "execution_count": null,
   "metadata": {},
   "outputs": [],
   "source": [
    "# Supress Warning \n",
    "import warnings\n",
    "warnings.filterwarnings('ignore')"
   ]
  },
  {
   "cell_type": "code",
   "execution_count": null,
   "metadata": {},
   "outputs": [],
   "source": [
    "# Load Data Cube Configuration\n",
    "import datacube\n",
    "dc = datacube.Datacube(app = 'my_app')\n",
    "\n",
    "# Import Data Cube API\n",
    "import utils.data_cube_utilities.data_access_api as dc_api  \n",
    "api = dc_api.DataAccessApi()\n",
    "\n",
    "# Import other required packages\n",
    "import matplotlib.pyplot as plt\n",
    "import numpy as np  \n",
    "import xarray as xr  "
   ]
  },
  {
   "cell_type": "markdown",
   "metadata": {},
   "source": [
    "## Define product and extent"
   ]
  },
  {
   "cell_type": "markdown",
   "metadata": {},
   "source": [
    "### Available extents\n",
    "\n",
    "We've listed the available ingested data that you can explore in the ODC Sandbox. The latitude, longitude and time ranges correspond to the boundaries of the ingested data cubes. You'll be able to explore sub-samples of these cubes. You'll also need to provide the platform, product and resolution information for the cube you're subsampling.\n",
    "\n",
    "#### LS8 Caqueta\n",
    "Platform: `'LANDSAT_8'` <br>\n",
    "Product: `'ls8_collection1_AMA_ingest'` <br>\n",
    "Latitude:   `(0.000134747292617865, 1.077843593651382)` <br>\n",
    "Longitude:  `(-74.91935994831539, -73.30266193148462)` <br>\n",
    "Time:       `('2013-04-13', '2018-03-26')` <br>\n",
    "Resolution: `(-0.000269494585236, 0.000269494585236)`\n",
    "\n",
    "#### LS8 Vietnam\n",
    "Platform: `'LANDSAT_8'` <br>\n",
    "Product: `'ls8_collection1_AMA_ingest'` <br>\n",
    "Latitude:  `(10.513927001104687, 12.611133863411238)` <br>\n",
    "Longitude: `(106.79005909290998, 108.91906631627438)` <br>\n",
    "Time: `('2014-01-14', '2016-12-21')` <br>\n",
    "Resolution: `(-0.000269494585236, 0.000269494585236)` <br>\n",
    "\n",
    "#### LS7 Caqueta\n",
    "Platform: `'LANDSAT_7'` <br>\n",
    "Product: `'ls7_collection1_AMA_ingest'` <br>\n",
    "Latitude:  `(0.000134747292617865, 1.077843593651382)` <br>\n",
    "Longitude: `(-74.91935994831539, -73.30266193148462)` <br>\n",
    "Time: `('1999-08-21', '2018-03-25')` <br>\n",
    "Resolution: `(-0.000269494585236, 0.000269494585236)`\n",
    "\n",
    "#### LS7 Lake Baringo\n",
    "Platform: `'LANDSAT_7'` <br>\n",
    "Product: `'ls7_collection1_AMA_ingest'` <br>\n",
    "Latitude:  `(0.4997747685, 0.7495947795)` <br>\n",
    "Longitude: `(35.9742163305, 36.473586859499996)` <br>\n",
    "Time: `('2005-01-08', '2016-12-24')` <br>\n",
    "Resolution: `(-0.000269493, 0.000269493)`"
   ]
  },
  {
   "cell_type": "code",
   "execution_count": null,
   "metadata": {},
   "outputs": [],
   "source": [
    "# CHANGE HERE >>>>>>>>>>>>>>>>>\n",
    "\n",
    "# Select a product and platform\n",
    "platform = \"LANDSAT_8\"\n",
    "product = 'ls8_collection1_AMA_ingest'\n",
    "resolution = (-0.000269494585236, 0.000269494585236)\n",
    "output_crs = 'EPSG:4326'"
   ]
  },
  {
   "cell_type": "markdown",
   "metadata": {},
   "source": [
    "### Set extent information\n",
    "\n",
    "You can change the values in this cell to specify the extent of the data cube you wish to analyse.\n",
    "\n",
    "You should select a sub-sample from one of the four data cubes listed above. When subsampling, keep in mind that:\n",
    "* Your latitude and longitude bounds should be within the extents given.\n",
    "* Your area should be small to keep load times reasonable (less than 0.5 square degrees).\n",
    "* Your time period should be within the extents given.\n",
    "\n",
    "You should format the variables as:\n",
    "* `latitude = (min_latitude, max_latitude)`\n",
    "* `longitude = (min_longitude, max_longitude)`\n",
    "* `time_extents = (min_time, max_time)`, where each time has the format: `'YYYY-MM-DD'`."
   ]
  },
  {
   "cell_type": "code",
   "execution_count": null,
   "metadata": {},
   "outputs": [],
   "source": [
    "# CHANGE HERE >>>>>>>>>>>>>>>>>>\n",
    "\n",
    "# Select a sub-region to analyse\n",
    "latitude = (1.0684, 0.8684)\n",
    "longitude  = (-74.8409, -74.6409)\n",
    "time_extents = ('2000-01-01', '2018-01-01')"
   ]
  },
  {
   "cell_type": "markdown",
   "metadata": {},
   "source": [
    "### View the region before loading\n",
    "\n",
    "The next cell will allow you to view the area you'll be analysing by displaying a red bounding box on an interactive map. You can change the extents in the previous cell and rerun the `display_map()` command to see the resulting bounding box."
   ]
  },
  {
   "cell_type": "code",
   "execution_count": null,
   "metadata": {
    "scrolled": false
   },
   "outputs": [],
   "source": [
    "# The code below renders a map that can be used to view the analysis region.\n",
    "from utils.data_cube_utilities.dc_display_map import display_map\n",
    "\n",
    "display_map(latitude, longitude)"
   ]
  },
  {
   "cell_type": "markdown",
   "metadata": {},
   "source": [
    "## Load the dataset and the required spectral bands or other parameters\n",
    "The data is loaded by passing the product and area information to the `dc.load()` function. As a part of this load, we also specify the measurements we want in the form of the Landsat bands.\n",
    "\n",
    "The load can take up to a few minutes, so please be patient."
   ]
  },
  {
   "cell_type": "code",
   "execution_count": null,
   "metadata": {},
   "outputs": [],
   "source": [
    "# Load the data\n",
    "landsat_dataset = dc.load(\n",
    "    latitude=latitude,\n",
    "    longitude=longitude,\n",
    "    platform=platform,\n",
    "    time=time_extents,\n",
    "    product=product,\n",
    "    output_crs=output_crs,\n",
    "    resolution=resolution,\n",
    "    measurements=(\n",
    "        'red',\n",
    "        'green',\n",
    "        'blue',\n",
    "        'nir',\n",
    "        'swir1',\n",
    "        'swir2',\n",
    "        'pixel_qa'\n",
    "    )\n",
    ") "
   ]
  },
  {
   "cell_type": "markdown",
   "metadata": {},
   "source": [
    "It is often useful to print the loaded data to check the dimensions and data variables\n",
    "\n",
    "When looking at the dimensions, the numbers for latitude and longitude correspond to the number of pixels in each dimension and the number for time corresponds to the number of time steps. "
   ]
  },
  {
   "cell_type": "code",
   "execution_count": null,
   "metadata": {},
   "outputs": [],
   "source": [
    "# Displays an overview of the loaded data\n",
    "print(landsat_dataset)"
   ]
  },
  {
   "cell_type": "markdown",
   "metadata": {},
   "source": [
    "## Masking out clouds\n",
    "\n",
    "As part of the utilities for the Open Data Cube, we have defined a function to mask clouds based on the quality assurance information for Landsat. The function returns an 'xarray.DataArray' object containing the mask. This can then be passed to the `where()` function, which masks the data."
   ]
  },
  {
   "cell_type": "code",
   "execution_count": null,
   "metadata": {},
   "outputs": [],
   "source": [
    "from utils.data_cube_utilities.clean_mask import landsat_qa_clean_mask\n",
    "\n",
    "cloud_mask = landsat_qa_clean_mask(landsat_dataset, platform=platform)\n",
    "\n",
    "cleaned_dataset = landsat_dataset.where(cloud_mask)"
   ]
  },
  {
   "cell_type": "markdown",
   "metadata": {},
   "source": [
    "## Time Series Water Detection Analysis\n",
    "Time series output of the Australian Water Detection from Space (WOFS) results. The results show the percent of time that a pixel is classified as water over the entire time series. BLUE = frequent water, RED = infrequent water.\n",
    "\n",
    "The first step is to classify the data set, which can be done with the `wofs_classify()` utility function."
   ]
  },
  {
   "cell_type": "code",
   "execution_count": null,
   "metadata": {},
   "outputs": [],
   "source": [
    "from utils.data_cube_utilities.dc_water_classifier import wofs_classify\n",
    "\n",
    "ts_water_classification = wofs_classify(landsat_dataset, clean_mask=cloud_mask)"
   ]
  },
  {
   "cell_type": "markdown",
   "metadata": {},
   "source": [
    "The next step is to convert \"no data\" pixels to `nan`. A \"no data\" pixel has a value of `-9999` in Landsat data."
   ]
  },
  {
   "cell_type": "code",
   "execution_count": null,
   "metadata": {},
   "outputs": [],
   "source": [
    "ts_water_classification = ts_water_classification.where(ts_water_classification != -9999).astype(np.float16)"
   ]
  },
  {
   "cell_type": "markdown",
   "metadata": {},
   "source": [
    "Finally, the percentage of time that a pixel is classified as water is calculated by taking the average classification value over time and multiplying it by 100. The mean calculation ignores `nan` values."
   ]
  },
  {
   "cell_type": "code",
   "execution_count": null,
   "metadata": {},
   "outputs": [],
   "source": [
    "water_classification_percentages = (ts_water_classification.mean(dim = ['time']) * 100).wofs.rename('water_classification_percentages')"
   ]
  },
  {
   "cell_type": "markdown",
   "metadata": {},
   "source": [
    "## Exploring the results\n",
    "\n",
    "After calculating the water classification percentage, we can plot it both as a 2-dimensional image and 1-dimensional summary.\n",
    "\n",
    "The first step is to choose a colour map and change the colour of `nan` pixels to black. We choose to use the `RdBu` colour map to highlight water in blue and land in red."
   ]
  },
  {
   "cell_type": "code",
   "execution_count": null,
   "metadata": {},
   "outputs": [],
   "source": [
    "# import color-scheme and set nans to black\n",
    "from matplotlib.cm import RdBu\n",
    "RdBu.set_bad('black', 1)"
   ]
  },
  {
   "cell_type": "markdown",
   "metadata": {},
   "source": [
    "In the following figure, dark blue indicates pixels that experienced significant or constant water over the time series, where dark red indicates pixels that have experienced little or no water over the time series.\n",
    "\n",
    "You can adjust the figure size to avoid distortion. Use the `latitude` and `longitude` dimensions from the `xarray` description to get an idea for the desired aspect ratio. You'll need to add some space in the x-dimension to account for the presence of the colour bar. "
   ]
  },
  {
   "cell_type": "code",
   "execution_count": null,
   "metadata": {},
   "outputs": [],
   "source": [
    "# CHANGE HERE >>>>>>>>>>>>>>>>>\n",
    "\n",
    "water_classification_percentages.plot(cmap = RdBu, figsize=(14,12))\n",
    "plt.show()"
   ]
  },
  {
   "cell_type": "markdown",
   "metadata": {},
   "source": [
    "By taking the average classification value over the latitude and longitude, we can assess whether the fraction of water pixels has changed significantly over time. It should be noted that clouds can impact the statistical results. The water classification percentage can be displayed on either a linear scale or a logarithmic scale."
   ]
  },
  {
   "cell_type": "code",
   "execution_count": null,
   "metadata": {},
   "outputs": [],
   "source": [
    "water_classification_mean_percentages = (ts_water_classification.mean(dim = ['latitude','longitude']) * 100).wofs.rename('water_classification_percentages')\n",
    "\n",
    "#Linear-scale plot\n",
    "water_classification_mean_percentages.plot(figsize=(15,3), marker='o', linestyle='None')\n",
    "plt.title(\"Percentage of water pixels over time (linear)\")\n",
    "plt.show()\n",
    "\n",
    "#Logarithmic-scale plot\n",
    "water_classification_mean_percentages.plot(figsize=(15,3), marker='o', linestyle='None')\n",
    "plt.title(\"Percentage of water pixels over time (logarithmic)\")\n",
    "plt.gca().set_yscale('log')"
   ]
  },
  {
   "cell_type": "markdown",
   "metadata": {},
   "source": [
    "## Export to GeoTIFF\n",
    "To perform further analysis, use the following cells to download the data in GeoTIFF format. This makes use of the data cube utility function `export_slice_to_geotiff()`. \n",
    "\n",
    "Before exporting, we'll construct an `xarray` dataset to store the water classification percentage data we created earlier."
   ]
  },
  {
   "cell_type": "code",
   "execution_count": null,
   "metadata": {},
   "outputs": [],
   "source": [
    "# Save the water percentage data to a GeoTIFF\n",
    "from utils.data_cube_utilities.import_export import export_slice_to_geotiff\n",
    "\n",
    "# construct the xarray Dataset\n",
    "dataset_to_export = xr.Dataset(coords=water_classification_percentages.coords, attrs=ts_water_classification.attrs)\n",
    "\n",
    "# add the water classification percentages to the new xarray Dataset\n",
    "dataset_to_export['wofs_pct'] = (water_classification_percentages/100).astype(np.float32)"
   ]
  },
  {
   "cell_type": "markdown",
   "metadata": {},
   "source": [
    "The export command on the following line is commented out to avoid overwriting files. If you would like to export data, please change the filename before uncommenting the next line."
   ]
  },
  {
   "cell_type": "code",
   "execution_count": null,
   "metadata": {},
   "outputs": [],
   "source": [
    "# CHANGE HERE >>>>>>>>>>>>>>>>>>>>>>>>>\n",
    "\n",
    "# export_slice_to_geotiff(dataset_to_export, 'geotiffs/WOFS_Percentage_demo.tif')"
   ]
  },
  {
   "cell_type": "markdown",
   "metadata": {},
   "source": [
    "By default, the files have been saved in the `geotiffs` folder, which sits inside the `dcal` folder that this notebook is stored in. Use the following cell to list the contents of the `geotiffs` folder.\n",
    "\n",
    "*NOTE:* Starting a command with `!` allows you to run that command in the Jupyter environment's command line."
   ]
  },
  {
   "cell_type": "code",
   "execution_count": null,
   "metadata": {},
   "outputs": [],
   "source": [
    "!ls -lah geotiffs/"
   ]
  }
 ],
 "metadata": {
  "kernelspec": {
   "display_name": "Python 3",
   "language": "python",
   "name": "python3"
  },
  "language_info": {
   "codemirror_mode": {
    "name": "ipython",
    "version": 3
   },
   "file_extension": ".py",
   "mimetype": "text/x-python",
   "name": "python",
   "nbconvert_exporter": "python",
   "pygments_lexer": "ipython3",
   "version": "3.6.6"
  },
  "widgets": {
   "application/vnd.jupyter.widget-state+json": {
    "state": {},
    "version_major": 2,
    "version_minor": 0
   }
  }
 },
 "nbformat": 4,
 "nbformat_minor": 2
}
